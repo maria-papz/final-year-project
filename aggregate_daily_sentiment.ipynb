{
  "nbformat": 4,
  "nbformat_minor": 0,
  "metadata": {
    "colab": {
      "provenance": [],
      "mount_file_id": "1f3DWEnvZOAFmM3hf_4qNJvsDurjr_c3o",
      "authorship_tag": "ABX9TyMuHEfgjlM40gnCYG9McMky",
      "include_colab_link": true
    },
    "kernelspec": {
      "name": "python3",
      "display_name": "Python 3"
    },
    "language_info": {
      "name": "python"
    }
  },
  "cells": [
    {
      "cell_type": "markdown",
      "metadata": {
        "id": "view-in-github",
        "colab_type": "text"
      },
      "source": [
        "<a href=\"https://colab.research.google.com/github/maria-papz/final-year-project/blob/main/aggregate_daily_sentiment.ipynb\" target=\"_parent\"><img src=\"https://colab.research.google.com/assets/colab-badge.svg\" alt=\"Open In Colab\"/></a>"
      ]
    },
    {
      "cell_type": "markdown",
      "source": [
        "# Aggregating same-day news sentiments"
      ],
      "metadata": {
        "id": "a1ig1eRbkA-u"
      }
    },
    {
      "cell_type": "code",
      "execution_count": null,
      "metadata": {
        "colab": {
          "base_uri": "https://localhost:8080/"
        },
        "id": "Ij9L2RC2OeU-",
        "outputId": "5b0ae07e-2187-4181-9673-7176d282975c"
      },
      "outputs": [
        {
          "output_type": "stream",
          "name": "stderr",
          "text": [
            "<ipython-input-1-90deb3abf0e6>:2: DtypeWarning: Columns (0) have mixed types. Specify dtype option on import or set low_memory=False.\n",
            "  tweetsBERT=pd.read_csv('drive/MyDrive/twitter_sentimentBERT2.csv')\n"
          ]
        }
      ],
      "source": [
        "import pandas as pd\n",
        "tweetsBERT=pd.read_csv('drive/MyDrive/twitter_sentimentBERT2.csv')"
      ]
    },
    {
      "cell_type": "code",
      "source": [
        "newsBERT=pd.read_csv('drive/MyDrive/sp500_newsBERT2.csv')"
      ],
      "metadata": {
        "id": "UKLTVUgHQH0D"
      },
      "execution_count": null,
      "outputs": []
    },
    {
      "cell_type": "code",
      "source": [
        "import pandas as pd\n",
        "tweetsBERT.head()\n",
        "\n",
        "tweetsBERT['Date'] = pd.to_datetime(tweetsBERT['Date'], errors='coerce')\n",
        "newsBERT['Date'] = pd.to_datetime(newsBERT['Date'], errors='coerce')\n"
      ],
      "metadata": {
        "id": "ftigho2xQMm0"
      },
      "execution_count": null,
      "outputs": []
    },
    {
      "cell_type": "markdown",
      "source": [
        "## Mean Daily Sentiment Probabilities BERT labelled Congress tweets"
      ],
      "metadata": {
        "id": "gDqL3IfqkK_s"
      }
    },
    {
      "cell_type": "code",
      "source": [
        "min_date_tweets = tweetsBERT['Date'].min()\n",
        "max_date_tweets = tweetsBERT['Date'].max()\n",
        "print(f'date range tweets:{min_date_tweets} to {max_date_tweets}')\n",
        "min_date_news = newsBERT['Date'].min()\n",
        "max_date_news = newsBERT['Date'].max()\n",
        "print(f'date range news:{min_date_news} to {max_date_news}')\n",
        "\n",
        "\n",
        "dailyBERTtweets_mean = tweetsBERT.groupby('Date')[['Negative', 'Neutral', 'Positive']].mean().reset_index()\n",
        "\n"
      ],
      "metadata": {
        "colab": {
          "base_uri": "https://localhost:8080/"
        },
        "id": "9Yvjna7mQOac",
        "outputId": "03092f30-63ff-44aa-800e-a96083d2c82d"
      },
      "execution_count": null,
      "outputs": [
        {
          "output_type": "stream",
          "name": "stdout",
          "text": [
            "date range tweets:2017-06-21 00:00:00 to 2023-07-11 00:00:00\n",
            "date range news:2019-12-19 00:00:00 to 2023-03-04 00:00:00\n"
          ]
        }
      ]
    },
    {
      "cell_type": "code",
      "source": [
        "dailyBERTtweets_mean.to_csv('drive/MyDrive/dailyBERTtweets_mean')"
      ],
      "metadata": {
        "id": "0nGuPePVTJ0V"
      },
      "execution_count": null,
      "outputs": []
    },
    {
      "cell_type": "markdown",
      "source": [
        "## Daily Sentiment Metric, based on sentiment counts BERT labelled Congress tweets"
      ],
      "metadata": {
        "id": "xZ3AtrtnkXNH"
      }
    },
    {
      "cell_type": "code",
      "source": [
        "tweetsBERT['DominantSentiment'] = tweetsBERT[['Negative', 'Neutral', 'Positive']].idxmax(axis=1)\n",
        "# Initialize counters\n",
        "tweetsBERT['PositiveCount'] = (tweetsBERT['DominantSentiment'] == 'Positive').astype(int)\n",
        "tweetsBERT['NegativeCount'] = (tweetsBERT['DominantSentiment'] == 'Negative').astype(int)\n",
        "tweetsBERT['NeutralCount'] = (tweetsBERT['DominantSentiment'] == 'Neutral').astype(int)\n",
        "\n",
        "# Aggregate counts by day\n",
        "agg_tweetsBERT_counts = tweetsBERT.groupby('Date')[['PositiveCount', 'NegativeCount', 'NeutralCount']].sum().reset_index()\n",
        "\n",
        "agg_tweetsBERT_counts['SentimentMetric'] = (agg_tweetsBERT_counts['PositiveCount'] - agg_tweetsBERT_counts['NegativeCount']) / (agg_tweetsBERT_counts['PositiveCount'] + agg_tweetsBERT_counts['NegativeCount'] + agg_tweetsBERT_counts['NeutralCount'])\n",
        "agg_tweetsBERT_counts.drop(columns=['PositiveCount', 'NegativeCount', 'NeutralCount'], inplace=True)\n"
      ],
      "metadata": {
        "id": "iJVDm5kUT-C1"
      },
      "execution_count": null,
      "outputs": []
    },
    {
      "cell_type": "code",
      "source": [
        "agg_tweetsBERT_counts.to_csv('drive/MyDrive/agg_tweetsBERT_counts')"
      ],
      "metadata": {
        "id": "PHzAH414VJbG"
      },
      "execution_count": null,
      "outputs": []
    },
    {
      "cell_type": "markdown",
      "source": [
        "## Mean Daily Sentiment Probabilities BERT labelled sp500 News"
      ],
      "metadata": {
        "id": "xluU0Icfkm1n"
      }
    },
    {
      "cell_type": "code",
      "source": [
        "dailyBERTnews_mean = newsBERT.groupby('Date')[['Negative', 'Neutral', 'Positive']].mean().reset_index()"
      ],
      "metadata": {
        "id": "TvuyVbRBYeyb"
      },
      "execution_count": null,
      "outputs": []
    },
    {
      "cell_type": "code",
      "source": [
        "import pandas as pd\n",
        "df=pd.read_csv('drive/MyDrive/dailyBERTnews_mean')"
      ],
      "metadata": {
        "id": "qPjzvIoPOO0Y"
      },
      "execution_count": null,
      "outputs": []
    },
    {
      "cell_type": "code",
      "source": [
        "df"
      ],
      "metadata": {
        "id": "yYBGsvV7OdSv",
        "outputId": "718a4c1b-3dd6-42d5-9c5b-d5d6c0439e30",
        "colab": {
          "base_uri": "https://localhost:8080/",
          "height": 419
        }
      },
      "execution_count": null,
      "outputs": [
        {
          "output_type": "execute_result",
          "data": {
            "text/plain": [
              "     Unnamed: 0        Date  Negative   Neutral  Positive\n",
              "0             0  2019-12-19  0.001307  0.032158  0.966534\n",
              "1             1  2020-01-02  0.689239  0.183304  0.127458\n",
              "2             2  2020-01-22  0.000359  0.998770  0.000871\n",
              "3             3  2020-02-07  0.000366  0.998774  0.000860\n",
              "4             4  2020-02-10  0.000846  0.750206  0.248948\n",
              "..          ...         ...       ...       ...       ...\n",
              "950         950  2023-02-28  0.149461  0.637833  0.212707\n",
              "951         951  2023-03-01  0.134450  0.664379  0.201171\n",
              "952         952  2023-03-02  0.144811  0.644103  0.211086\n",
              "953         953  2023-03-03  0.131156  0.673107  0.195737\n",
              "954         954  2023-03-04  0.126411  0.726018  0.147570\n",
              "\n",
              "[955 rows x 5 columns]"
            ],
            "text/html": [
              "\n",
              "  <div id=\"df-ab5c2bd9-0066-4a20-a1ac-204fd5461785\" class=\"colab-df-container\">\n",
              "    <div>\n",
              "<style scoped>\n",
              "    .dataframe tbody tr th:only-of-type {\n",
              "        vertical-align: middle;\n",
              "    }\n",
              "\n",
              "    .dataframe tbody tr th {\n",
              "        vertical-align: top;\n",
              "    }\n",
              "\n",
              "    .dataframe thead th {\n",
              "        text-align: right;\n",
              "    }\n",
              "</style>\n",
              "<table border=\"1\" class=\"dataframe\">\n",
              "  <thead>\n",
              "    <tr style=\"text-align: right;\">\n",
              "      <th></th>\n",
              "      <th>Unnamed: 0</th>\n",
              "      <th>Date</th>\n",
              "      <th>Negative</th>\n",
              "      <th>Neutral</th>\n",
              "      <th>Positive</th>\n",
              "    </tr>\n",
              "  </thead>\n",
              "  <tbody>\n",
              "    <tr>\n",
              "      <th>0</th>\n",
              "      <td>0</td>\n",
              "      <td>2019-12-19</td>\n",
              "      <td>0.001307</td>\n",
              "      <td>0.032158</td>\n",
              "      <td>0.966534</td>\n",
              "    </tr>\n",
              "    <tr>\n",
              "      <th>1</th>\n",
              "      <td>1</td>\n",
              "      <td>2020-01-02</td>\n",
              "      <td>0.689239</td>\n",
              "      <td>0.183304</td>\n",
              "      <td>0.127458</td>\n",
              "    </tr>\n",
              "    <tr>\n",
              "      <th>2</th>\n",
              "      <td>2</td>\n",
              "      <td>2020-01-22</td>\n",
              "      <td>0.000359</td>\n",
              "      <td>0.998770</td>\n",
              "      <td>0.000871</td>\n",
              "    </tr>\n",
              "    <tr>\n",
              "      <th>3</th>\n",
              "      <td>3</td>\n",
              "      <td>2020-02-07</td>\n",
              "      <td>0.000366</td>\n",
              "      <td>0.998774</td>\n",
              "      <td>0.000860</td>\n",
              "    </tr>\n",
              "    <tr>\n",
              "      <th>4</th>\n",
              "      <td>4</td>\n",
              "      <td>2020-02-10</td>\n",
              "      <td>0.000846</td>\n",
              "      <td>0.750206</td>\n",
              "      <td>0.248948</td>\n",
              "    </tr>\n",
              "    <tr>\n",
              "      <th>...</th>\n",
              "      <td>...</td>\n",
              "      <td>...</td>\n",
              "      <td>...</td>\n",
              "      <td>...</td>\n",
              "      <td>...</td>\n",
              "    </tr>\n",
              "    <tr>\n",
              "      <th>950</th>\n",
              "      <td>950</td>\n",
              "      <td>2023-02-28</td>\n",
              "      <td>0.149461</td>\n",
              "      <td>0.637833</td>\n",
              "      <td>0.212707</td>\n",
              "    </tr>\n",
              "    <tr>\n",
              "      <th>951</th>\n",
              "      <td>951</td>\n",
              "      <td>2023-03-01</td>\n",
              "      <td>0.134450</td>\n",
              "      <td>0.664379</td>\n",
              "      <td>0.201171</td>\n",
              "    </tr>\n",
              "    <tr>\n",
              "      <th>952</th>\n",
              "      <td>952</td>\n",
              "      <td>2023-03-02</td>\n",
              "      <td>0.144811</td>\n",
              "      <td>0.644103</td>\n",
              "      <td>0.211086</td>\n",
              "    </tr>\n",
              "    <tr>\n",
              "      <th>953</th>\n",
              "      <td>953</td>\n",
              "      <td>2023-03-03</td>\n",
              "      <td>0.131156</td>\n",
              "      <td>0.673107</td>\n",
              "      <td>0.195737</td>\n",
              "    </tr>\n",
              "    <tr>\n",
              "      <th>954</th>\n",
              "      <td>954</td>\n",
              "      <td>2023-03-04</td>\n",
              "      <td>0.126411</td>\n",
              "      <td>0.726018</td>\n",
              "      <td>0.147570</td>\n",
              "    </tr>\n",
              "  </tbody>\n",
              "</table>\n",
              "<p>955 rows × 5 columns</p>\n",
              "</div>\n",
              "    <div class=\"colab-df-buttons\">\n",
              "\n",
              "  <div class=\"colab-df-container\">\n",
              "    <button class=\"colab-df-convert\" onclick=\"convertToInteractive('df-ab5c2bd9-0066-4a20-a1ac-204fd5461785')\"\n",
              "            title=\"Convert this dataframe to an interactive table.\"\n",
              "            style=\"display:none;\">\n",
              "\n",
              "  <svg xmlns=\"http://www.w3.org/2000/svg\" height=\"24px\" viewBox=\"0 -960 960 960\">\n",
              "    <path d=\"M120-120v-720h720v720H120Zm60-500h600v-160H180v160Zm220 220h160v-160H400v160Zm0 220h160v-160H400v160ZM180-400h160v-160H180v160Zm440 0h160v-160H620v160ZM180-180h160v-160H180v160Zm440 0h160v-160H620v160Z\"/>\n",
              "  </svg>\n",
              "    </button>\n",
              "\n",
              "  <style>\n",
              "    .colab-df-container {\n",
              "      display:flex;\n",
              "      gap: 12px;\n",
              "    }\n",
              "\n",
              "    .colab-df-convert {\n",
              "      background-color: #E8F0FE;\n",
              "      border: none;\n",
              "      border-radius: 50%;\n",
              "      cursor: pointer;\n",
              "      display: none;\n",
              "      fill: #1967D2;\n",
              "      height: 32px;\n",
              "      padding: 0 0 0 0;\n",
              "      width: 32px;\n",
              "    }\n",
              "\n",
              "    .colab-df-convert:hover {\n",
              "      background-color: #E2EBFA;\n",
              "      box-shadow: 0px 1px 2px rgba(60, 64, 67, 0.3), 0px 1px 3px 1px rgba(60, 64, 67, 0.15);\n",
              "      fill: #174EA6;\n",
              "    }\n",
              "\n",
              "    .colab-df-buttons div {\n",
              "      margin-bottom: 4px;\n",
              "    }\n",
              "\n",
              "    [theme=dark] .colab-df-convert {\n",
              "      background-color: #3B4455;\n",
              "      fill: #D2E3FC;\n",
              "    }\n",
              "\n",
              "    [theme=dark] .colab-df-convert:hover {\n",
              "      background-color: #434B5C;\n",
              "      box-shadow: 0px 1px 3px 1px rgba(0, 0, 0, 0.15);\n",
              "      filter: drop-shadow(0px 1px 2px rgba(0, 0, 0, 0.3));\n",
              "      fill: #FFFFFF;\n",
              "    }\n",
              "  </style>\n",
              "\n",
              "    <script>\n",
              "      const buttonEl =\n",
              "        document.querySelector('#df-ab5c2bd9-0066-4a20-a1ac-204fd5461785 button.colab-df-convert');\n",
              "      buttonEl.style.display =\n",
              "        google.colab.kernel.accessAllowed ? 'block' : 'none';\n",
              "\n",
              "      async function convertToInteractive(key) {\n",
              "        const element = document.querySelector('#df-ab5c2bd9-0066-4a20-a1ac-204fd5461785');\n",
              "        const dataTable =\n",
              "          await google.colab.kernel.invokeFunction('convertToInteractive',\n",
              "                                                    [key], {});\n",
              "        if (!dataTable) return;\n",
              "\n",
              "        const docLinkHtml = 'Like what you see? Visit the ' +\n",
              "          '<a target=\"_blank\" href=https://colab.research.google.com/notebooks/data_table.ipynb>data table notebook</a>'\n",
              "          + ' to learn more about interactive tables.';\n",
              "        element.innerHTML = '';\n",
              "        dataTable['output_type'] = 'display_data';\n",
              "        await google.colab.output.renderOutput(dataTable, element);\n",
              "        const docLink = document.createElement('div');\n",
              "        docLink.innerHTML = docLinkHtml;\n",
              "        element.appendChild(docLink);\n",
              "      }\n",
              "    </script>\n",
              "  </div>\n",
              "\n",
              "\n",
              "<div id=\"df-c41eb4bc-ef89-47c8-bf02-87031c8ed9ab\">\n",
              "  <button class=\"colab-df-quickchart\" onclick=\"quickchart('df-c41eb4bc-ef89-47c8-bf02-87031c8ed9ab')\"\n",
              "            title=\"Suggest charts\"\n",
              "            style=\"display:none;\">\n",
              "\n",
              "<svg xmlns=\"http://www.w3.org/2000/svg\" height=\"24px\"viewBox=\"0 0 24 24\"\n",
              "     width=\"24px\">\n",
              "    <g>\n",
              "        <path d=\"M19 3H5c-1.1 0-2 .9-2 2v14c0 1.1.9 2 2 2h14c1.1 0 2-.9 2-2V5c0-1.1-.9-2-2-2zM9 17H7v-7h2v7zm4 0h-2V7h2v10zm4 0h-2v-4h2v4z\"/>\n",
              "    </g>\n",
              "</svg>\n",
              "  </button>\n",
              "\n",
              "<style>\n",
              "  .colab-df-quickchart {\n",
              "      --bg-color: #E8F0FE;\n",
              "      --fill-color: #1967D2;\n",
              "      --hover-bg-color: #E2EBFA;\n",
              "      --hover-fill-color: #174EA6;\n",
              "      --disabled-fill-color: #AAA;\n",
              "      --disabled-bg-color: #DDD;\n",
              "  }\n",
              "\n",
              "  [theme=dark] .colab-df-quickchart {\n",
              "      --bg-color: #3B4455;\n",
              "      --fill-color: #D2E3FC;\n",
              "      --hover-bg-color: #434B5C;\n",
              "      --hover-fill-color: #FFFFFF;\n",
              "      --disabled-bg-color: #3B4455;\n",
              "      --disabled-fill-color: #666;\n",
              "  }\n",
              "\n",
              "  .colab-df-quickchart {\n",
              "    background-color: var(--bg-color);\n",
              "    border: none;\n",
              "    border-radius: 50%;\n",
              "    cursor: pointer;\n",
              "    display: none;\n",
              "    fill: var(--fill-color);\n",
              "    height: 32px;\n",
              "    padding: 0;\n",
              "    width: 32px;\n",
              "  }\n",
              "\n",
              "  .colab-df-quickchart:hover {\n",
              "    background-color: var(--hover-bg-color);\n",
              "    box-shadow: 0 1px 2px rgba(60, 64, 67, 0.3), 0 1px 3px 1px rgba(60, 64, 67, 0.15);\n",
              "    fill: var(--button-hover-fill-color);\n",
              "  }\n",
              "\n",
              "  .colab-df-quickchart-complete:disabled,\n",
              "  .colab-df-quickchart-complete:disabled:hover {\n",
              "    background-color: var(--disabled-bg-color);\n",
              "    fill: var(--disabled-fill-color);\n",
              "    box-shadow: none;\n",
              "  }\n",
              "\n",
              "  .colab-df-spinner {\n",
              "    border: 2px solid var(--fill-color);\n",
              "    border-color: transparent;\n",
              "    border-bottom-color: var(--fill-color);\n",
              "    animation:\n",
              "      spin 1s steps(1) infinite;\n",
              "  }\n",
              "\n",
              "  @keyframes spin {\n",
              "    0% {\n",
              "      border-color: transparent;\n",
              "      border-bottom-color: var(--fill-color);\n",
              "      border-left-color: var(--fill-color);\n",
              "    }\n",
              "    20% {\n",
              "      border-color: transparent;\n",
              "      border-left-color: var(--fill-color);\n",
              "      border-top-color: var(--fill-color);\n",
              "    }\n",
              "    30% {\n",
              "      border-color: transparent;\n",
              "      border-left-color: var(--fill-color);\n",
              "      border-top-color: var(--fill-color);\n",
              "      border-right-color: var(--fill-color);\n",
              "    }\n",
              "    40% {\n",
              "      border-color: transparent;\n",
              "      border-right-color: var(--fill-color);\n",
              "      border-top-color: var(--fill-color);\n",
              "    }\n",
              "    60% {\n",
              "      border-color: transparent;\n",
              "      border-right-color: var(--fill-color);\n",
              "    }\n",
              "    80% {\n",
              "      border-color: transparent;\n",
              "      border-right-color: var(--fill-color);\n",
              "      border-bottom-color: var(--fill-color);\n",
              "    }\n",
              "    90% {\n",
              "      border-color: transparent;\n",
              "      border-bottom-color: var(--fill-color);\n",
              "    }\n",
              "  }\n",
              "</style>\n",
              "\n",
              "  <script>\n",
              "    async function quickchart(key) {\n",
              "      const quickchartButtonEl =\n",
              "        document.querySelector('#' + key + ' button');\n",
              "      quickchartButtonEl.disabled = true;  // To prevent multiple clicks.\n",
              "      quickchartButtonEl.classList.add('colab-df-spinner');\n",
              "      try {\n",
              "        const charts = await google.colab.kernel.invokeFunction(\n",
              "            'suggestCharts', [key], {});\n",
              "      } catch (error) {\n",
              "        console.error('Error during call to suggestCharts:', error);\n",
              "      }\n",
              "      quickchartButtonEl.classList.remove('colab-df-spinner');\n",
              "      quickchartButtonEl.classList.add('colab-df-quickchart-complete');\n",
              "    }\n",
              "    (() => {\n",
              "      let quickchartButtonEl =\n",
              "        document.querySelector('#df-c41eb4bc-ef89-47c8-bf02-87031c8ed9ab button');\n",
              "      quickchartButtonEl.style.display =\n",
              "        google.colab.kernel.accessAllowed ? 'block' : 'none';\n",
              "    })();\n",
              "  </script>\n",
              "</div>\n",
              "    </div>\n",
              "  </div>\n"
            ],
            "application/vnd.google.colaboratory.intrinsic+json": {
              "type": "dataframe",
              "variable_name": "df",
              "summary": "{\n  \"name\": \"df\",\n  \"rows\": 955,\n  \"fields\": [\n    {\n      \"column\": \"Unnamed: 0\",\n      \"properties\": {\n        \"dtype\": \"number\",\n        \"std\": 275,\n        \"min\": 0,\n        \"max\": 954,\n        \"num_unique_values\": 955,\n        \"samples\": [\n          199,\n          422,\n          695\n        ],\n        \"semantic_type\": \"\",\n        \"description\": \"\"\n      }\n    },\n    {\n      \"column\": \"Date\",\n      \"properties\": {\n        \"dtype\": \"object\",\n        \"num_unique_values\": 955,\n        \"samples\": [\n          \"2021-02-06\",\n          \"2021-09-18\",\n          \"2022-06-18\"\n        ],\n        \"semantic_type\": \"\",\n        \"description\": \"\"\n      }\n    },\n    {\n      \"column\": \"Negative\",\n      \"properties\": {\n        \"dtype\": \"number\",\n        \"std\": 0.11544600565317871,\n        \"min\": 0.0002621233,\n        \"max\": 0.99331963,\n        \"num_unique_values\": 954,\n        \"samples\": [\n          0.2208717451688888,\n          0.0283975419864705,\n          0.009660770591875\n        ],\n        \"semantic_type\": \"\",\n        \"description\": \"\"\n      }\n    },\n    {\n      \"column\": \"Neutral\",\n      \"properties\": {\n        \"dtype\": \"number\",\n        \"std\": 0.1692480789463232,\n        \"min\": 0.0024958237,\n        \"max\": 0.99914134,\n        \"num_unique_values\": 954,\n        \"samples\": [\n          0.5589260795555556,\n          0.9453801941176472,\n          0.943180536875\n        ],\n        \"semantic_type\": \"\",\n        \"description\": \"\"\n      }\n    },\n    {\n      \"column\": \"Positive\",\n      \"properties\": {\n        \"dtype\": \"number\",\n        \"std\": 0.13833881041001714,\n        \"min\": 0.00049581483,\n        \"max\": 0.99671423,\n        \"num_unique_values\": 954,\n        \"samples\": [\n          0.2202021697666666,\n          0.0262222554647058,\n          0.04715869359625\n        ],\n        \"semantic_type\": \"\",\n        \"description\": \"\"\n      }\n    }\n  ]\n}"
            }
          },
          "metadata": {},
          "execution_count": 6
        }
      ]
    },
    {
      "cell_type": "code",
      "source": [
        "dailyBERTnews_mean"
      ],
      "metadata": {
        "colab": {
          "base_uri": "https://localhost:8080/",
          "height": 419
        },
        "id": "dZNPzKxIOLhz",
        "outputId": "bb1eeed1-ef21-4f6f-8fec-e5e2e6c649a9"
      },
      "execution_count": null,
      "outputs": [
        {
          "output_type": "execute_result",
          "data": {
            "text/plain": [
              "          Date  Negative   Neutral  Positive\n",
              "0   2019-12-19  0.001307  0.032158  0.966534\n",
              "1   2020-01-02  0.689239  0.183304  0.127458\n",
              "2   2020-01-22  0.000359  0.998770  0.000871\n",
              "3   2020-02-07  0.000366  0.998774  0.000860\n",
              "4   2020-02-10  0.000846  0.750206  0.248948\n",
              "..         ...       ...       ...       ...\n",
              "950 2023-02-28  0.149461  0.637833  0.212707\n",
              "951 2023-03-01  0.134450  0.664379  0.201171\n",
              "952 2023-03-02  0.144811  0.644103  0.211086\n",
              "953 2023-03-03  0.131156  0.673107  0.195737\n",
              "954 2023-03-04  0.126411  0.726018  0.147570\n",
              "\n",
              "[955 rows x 4 columns]"
            ],
            "text/html": [
              "\n",
              "  <div id=\"df-70db3bd5-1ac6-492d-80ed-a847961c110d\" class=\"colab-df-container\">\n",
              "    <div>\n",
              "<style scoped>\n",
              "    .dataframe tbody tr th:only-of-type {\n",
              "        vertical-align: middle;\n",
              "    }\n",
              "\n",
              "    .dataframe tbody tr th {\n",
              "        vertical-align: top;\n",
              "    }\n",
              "\n",
              "    .dataframe thead th {\n",
              "        text-align: right;\n",
              "    }\n",
              "</style>\n",
              "<table border=\"1\" class=\"dataframe\">\n",
              "  <thead>\n",
              "    <tr style=\"text-align: right;\">\n",
              "      <th></th>\n",
              "      <th>Date</th>\n",
              "      <th>Negative</th>\n",
              "      <th>Neutral</th>\n",
              "      <th>Positive</th>\n",
              "    </tr>\n",
              "  </thead>\n",
              "  <tbody>\n",
              "    <tr>\n",
              "      <th>0</th>\n",
              "      <td>2019-12-19</td>\n",
              "      <td>0.001307</td>\n",
              "      <td>0.032158</td>\n",
              "      <td>0.966534</td>\n",
              "    </tr>\n",
              "    <tr>\n",
              "      <th>1</th>\n",
              "      <td>2020-01-02</td>\n",
              "      <td>0.689239</td>\n",
              "      <td>0.183304</td>\n",
              "      <td>0.127458</td>\n",
              "    </tr>\n",
              "    <tr>\n",
              "      <th>2</th>\n",
              "      <td>2020-01-22</td>\n",
              "      <td>0.000359</td>\n",
              "      <td>0.998770</td>\n",
              "      <td>0.000871</td>\n",
              "    </tr>\n",
              "    <tr>\n",
              "      <th>3</th>\n",
              "      <td>2020-02-07</td>\n",
              "      <td>0.000366</td>\n",
              "      <td>0.998774</td>\n",
              "      <td>0.000860</td>\n",
              "    </tr>\n",
              "    <tr>\n",
              "      <th>4</th>\n",
              "      <td>2020-02-10</td>\n",
              "      <td>0.000846</td>\n",
              "      <td>0.750206</td>\n",
              "      <td>0.248948</td>\n",
              "    </tr>\n",
              "    <tr>\n",
              "      <th>...</th>\n",
              "      <td>...</td>\n",
              "      <td>...</td>\n",
              "      <td>...</td>\n",
              "      <td>...</td>\n",
              "    </tr>\n",
              "    <tr>\n",
              "      <th>950</th>\n",
              "      <td>2023-02-28</td>\n",
              "      <td>0.149461</td>\n",
              "      <td>0.637833</td>\n",
              "      <td>0.212707</td>\n",
              "    </tr>\n",
              "    <tr>\n",
              "      <th>951</th>\n",
              "      <td>2023-03-01</td>\n",
              "      <td>0.134450</td>\n",
              "      <td>0.664379</td>\n",
              "      <td>0.201171</td>\n",
              "    </tr>\n",
              "    <tr>\n",
              "      <th>952</th>\n",
              "      <td>2023-03-02</td>\n",
              "      <td>0.144811</td>\n",
              "      <td>0.644103</td>\n",
              "      <td>0.211086</td>\n",
              "    </tr>\n",
              "    <tr>\n",
              "      <th>953</th>\n",
              "      <td>2023-03-03</td>\n",
              "      <td>0.131156</td>\n",
              "      <td>0.673107</td>\n",
              "      <td>0.195737</td>\n",
              "    </tr>\n",
              "    <tr>\n",
              "      <th>954</th>\n",
              "      <td>2023-03-04</td>\n",
              "      <td>0.126411</td>\n",
              "      <td>0.726018</td>\n",
              "      <td>0.147570</td>\n",
              "    </tr>\n",
              "  </tbody>\n",
              "</table>\n",
              "<p>955 rows × 4 columns</p>\n",
              "</div>\n",
              "    <div class=\"colab-df-buttons\">\n",
              "\n",
              "  <div class=\"colab-df-container\">\n",
              "    <button class=\"colab-df-convert\" onclick=\"convertToInteractive('df-70db3bd5-1ac6-492d-80ed-a847961c110d')\"\n",
              "            title=\"Convert this dataframe to an interactive table.\"\n",
              "            style=\"display:none;\">\n",
              "\n",
              "  <svg xmlns=\"http://www.w3.org/2000/svg\" height=\"24px\" viewBox=\"0 -960 960 960\">\n",
              "    <path d=\"M120-120v-720h720v720H120Zm60-500h600v-160H180v160Zm220 220h160v-160H400v160Zm0 220h160v-160H400v160ZM180-400h160v-160H180v160Zm440 0h160v-160H620v160ZM180-180h160v-160H180v160Zm440 0h160v-160H620v160Z\"/>\n",
              "  </svg>\n",
              "    </button>\n",
              "\n",
              "  <style>\n",
              "    .colab-df-container {\n",
              "      display:flex;\n",
              "      gap: 12px;\n",
              "    }\n",
              "\n",
              "    .colab-df-convert {\n",
              "      background-color: #E8F0FE;\n",
              "      border: none;\n",
              "      border-radius: 50%;\n",
              "      cursor: pointer;\n",
              "      display: none;\n",
              "      fill: #1967D2;\n",
              "      height: 32px;\n",
              "      padding: 0 0 0 0;\n",
              "      width: 32px;\n",
              "    }\n",
              "\n",
              "    .colab-df-convert:hover {\n",
              "      background-color: #E2EBFA;\n",
              "      box-shadow: 0px 1px 2px rgba(60, 64, 67, 0.3), 0px 1px 3px 1px rgba(60, 64, 67, 0.15);\n",
              "      fill: #174EA6;\n",
              "    }\n",
              "\n",
              "    .colab-df-buttons div {\n",
              "      margin-bottom: 4px;\n",
              "    }\n",
              "\n",
              "    [theme=dark] .colab-df-convert {\n",
              "      background-color: #3B4455;\n",
              "      fill: #D2E3FC;\n",
              "    }\n",
              "\n",
              "    [theme=dark] .colab-df-convert:hover {\n",
              "      background-color: #434B5C;\n",
              "      box-shadow: 0px 1px 3px 1px rgba(0, 0, 0, 0.15);\n",
              "      filter: drop-shadow(0px 1px 2px rgba(0, 0, 0, 0.3));\n",
              "      fill: #FFFFFF;\n",
              "    }\n",
              "  </style>\n",
              "\n",
              "    <script>\n",
              "      const buttonEl =\n",
              "        document.querySelector('#df-70db3bd5-1ac6-492d-80ed-a847961c110d button.colab-df-convert');\n",
              "      buttonEl.style.display =\n",
              "        google.colab.kernel.accessAllowed ? 'block' : 'none';\n",
              "\n",
              "      async function convertToInteractive(key) {\n",
              "        const element = document.querySelector('#df-70db3bd5-1ac6-492d-80ed-a847961c110d');\n",
              "        const dataTable =\n",
              "          await google.colab.kernel.invokeFunction('convertToInteractive',\n",
              "                                                    [key], {});\n",
              "        if (!dataTable) return;\n",
              "\n",
              "        const docLinkHtml = 'Like what you see? Visit the ' +\n",
              "          '<a target=\"_blank\" href=https://colab.research.google.com/notebooks/data_table.ipynb>data table notebook</a>'\n",
              "          + ' to learn more about interactive tables.';\n",
              "        element.innerHTML = '';\n",
              "        dataTable['output_type'] = 'display_data';\n",
              "        await google.colab.output.renderOutput(dataTable, element);\n",
              "        const docLink = document.createElement('div');\n",
              "        docLink.innerHTML = docLinkHtml;\n",
              "        element.appendChild(docLink);\n",
              "      }\n",
              "    </script>\n",
              "  </div>\n",
              "\n",
              "\n",
              "<div id=\"df-fab05b1c-ea9f-41da-8d34-cef4546b7e23\">\n",
              "  <button class=\"colab-df-quickchart\" onclick=\"quickchart('df-fab05b1c-ea9f-41da-8d34-cef4546b7e23')\"\n",
              "            title=\"Suggest charts\"\n",
              "            style=\"display:none;\">\n",
              "\n",
              "<svg xmlns=\"http://www.w3.org/2000/svg\" height=\"24px\"viewBox=\"0 0 24 24\"\n",
              "     width=\"24px\">\n",
              "    <g>\n",
              "        <path d=\"M19 3H5c-1.1 0-2 .9-2 2v14c0 1.1.9 2 2 2h14c1.1 0 2-.9 2-2V5c0-1.1-.9-2-2-2zM9 17H7v-7h2v7zm4 0h-2V7h2v10zm4 0h-2v-4h2v4z\"/>\n",
              "    </g>\n",
              "</svg>\n",
              "  </button>\n",
              "\n",
              "<style>\n",
              "  .colab-df-quickchart {\n",
              "      --bg-color: #E8F0FE;\n",
              "      --fill-color: #1967D2;\n",
              "      --hover-bg-color: #E2EBFA;\n",
              "      --hover-fill-color: #174EA6;\n",
              "      --disabled-fill-color: #AAA;\n",
              "      --disabled-bg-color: #DDD;\n",
              "  }\n",
              "\n",
              "  [theme=dark] .colab-df-quickchart {\n",
              "      --bg-color: #3B4455;\n",
              "      --fill-color: #D2E3FC;\n",
              "      --hover-bg-color: #434B5C;\n",
              "      --hover-fill-color: #FFFFFF;\n",
              "      --disabled-bg-color: #3B4455;\n",
              "      --disabled-fill-color: #666;\n",
              "  }\n",
              "\n",
              "  .colab-df-quickchart {\n",
              "    background-color: var(--bg-color);\n",
              "    border: none;\n",
              "    border-radius: 50%;\n",
              "    cursor: pointer;\n",
              "    display: none;\n",
              "    fill: var(--fill-color);\n",
              "    height: 32px;\n",
              "    padding: 0;\n",
              "    width: 32px;\n",
              "  }\n",
              "\n",
              "  .colab-df-quickchart:hover {\n",
              "    background-color: var(--hover-bg-color);\n",
              "    box-shadow: 0 1px 2px rgba(60, 64, 67, 0.3), 0 1px 3px 1px rgba(60, 64, 67, 0.15);\n",
              "    fill: var(--button-hover-fill-color);\n",
              "  }\n",
              "\n",
              "  .colab-df-quickchart-complete:disabled,\n",
              "  .colab-df-quickchart-complete:disabled:hover {\n",
              "    background-color: var(--disabled-bg-color);\n",
              "    fill: var(--disabled-fill-color);\n",
              "    box-shadow: none;\n",
              "  }\n",
              "\n",
              "  .colab-df-spinner {\n",
              "    border: 2px solid var(--fill-color);\n",
              "    border-color: transparent;\n",
              "    border-bottom-color: var(--fill-color);\n",
              "    animation:\n",
              "      spin 1s steps(1) infinite;\n",
              "  }\n",
              "\n",
              "  @keyframes spin {\n",
              "    0% {\n",
              "      border-color: transparent;\n",
              "      border-bottom-color: var(--fill-color);\n",
              "      border-left-color: var(--fill-color);\n",
              "    }\n",
              "    20% {\n",
              "      border-color: transparent;\n",
              "      border-left-color: var(--fill-color);\n",
              "      border-top-color: var(--fill-color);\n",
              "    }\n",
              "    30% {\n",
              "      border-color: transparent;\n",
              "      border-left-color: var(--fill-color);\n",
              "      border-top-color: var(--fill-color);\n",
              "      border-right-color: var(--fill-color);\n",
              "    }\n",
              "    40% {\n",
              "      border-color: transparent;\n",
              "      border-right-color: var(--fill-color);\n",
              "      border-top-color: var(--fill-color);\n",
              "    }\n",
              "    60% {\n",
              "      border-color: transparent;\n",
              "      border-right-color: var(--fill-color);\n",
              "    }\n",
              "    80% {\n",
              "      border-color: transparent;\n",
              "      border-right-color: var(--fill-color);\n",
              "      border-bottom-color: var(--fill-color);\n",
              "    }\n",
              "    90% {\n",
              "      border-color: transparent;\n",
              "      border-bottom-color: var(--fill-color);\n",
              "    }\n",
              "  }\n",
              "</style>\n",
              "\n",
              "  <script>\n",
              "    async function quickchart(key) {\n",
              "      const quickchartButtonEl =\n",
              "        document.querySelector('#' + key + ' button');\n",
              "      quickchartButtonEl.disabled = true;  // To prevent multiple clicks.\n",
              "      quickchartButtonEl.classList.add('colab-df-spinner');\n",
              "      try {\n",
              "        const charts = await google.colab.kernel.invokeFunction(\n",
              "            'suggestCharts', [key], {});\n",
              "      } catch (error) {\n",
              "        console.error('Error during call to suggestCharts:', error);\n",
              "      }\n",
              "      quickchartButtonEl.classList.remove('colab-df-spinner');\n",
              "      quickchartButtonEl.classList.add('colab-df-quickchart-complete');\n",
              "    }\n",
              "    (() => {\n",
              "      let quickchartButtonEl =\n",
              "        document.querySelector('#df-fab05b1c-ea9f-41da-8d34-cef4546b7e23 button');\n",
              "      quickchartButtonEl.style.display =\n",
              "        google.colab.kernel.accessAllowed ? 'block' : 'none';\n",
              "    })();\n",
              "  </script>\n",
              "</div>\n",
              "    </div>\n",
              "  </div>\n"
            ],
            "application/vnd.google.colaboratory.intrinsic+json": {
              "type": "dataframe",
              "variable_name": "dailyBERTnews_mean",
              "summary": "{\n  \"name\": \"dailyBERTnews_mean\",\n  \"rows\": 955,\n  \"fields\": [\n    {\n      \"column\": \"Date\",\n      \"properties\": {\n        \"dtype\": \"date\",\n        \"min\": \"2019-12-19 00:00:00\",\n        \"max\": \"2023-03-04 00:00:00\",\n        \"num_unique_values\": 955,\n        \"samples\": [\n          \"2021-02-06 00:00:00\",\n          \"2021-09-18 00:00:00\",\n          \"2022-06-18 00:00:00\"\n        ],\n        \"semantic_type\": \"\",\n        \"description\": \"\"\n      }\n    },\n    {\n      \"column\": \"Negative\",\n      \"properties\": {\n        \"dtype\": \"number\",\n        \"std\": 0.11544600565317872,\n        \"min\": 0.0002621233,\n        \"max\": 0.99331963,\n        \"num_unique_values\": 954,\n        \"samples\": [\n          0.22087174516888888,\n          0.028397541986470588,\n          0.009660770591875001\n        ],\n        \"semantic_type\": \"\",\n        \"description\": \"\"\n      }\n    },\n    {\n      \"column\": \"Neutral\",\n      \"properties\": {\n        \"dtype\": \"number\",\n        \"std\": 0.1692480789463232,\n        \"min\": 0.0024958237,\n        \"max\": 0.99914134,\n        \"num_unique_values\": 954,\n        \"samples\": [\n          0.5589260795555556,\n          0.9453801941176472,\n          0.943180536875\n        ],\n        \"semantic_type\": \"\",\n        \"description\": \"\"\n      }\n    },\n    {\n      \"column\": \"Positive\",\n      \"properties\": {\n        \"dtype\": \"number\",\n        \"std\": 0.13833881041001714,\n        \"min\": 0.00049581483,\n        \"max\": 0.99671423,\n        \"num_unique_values\": 954,\n        \"samples\": [\n          0.22020216976666665,\n          0.026222255464705885,\n          0.04715869359625\n        ],\n        \"semantic_type\": \"\",\n        \"description\": \"\"\n      }\n    }\n  ]\n}"
            }
          },
          "metadata": {},
          "execution_count": 7
        }
      ]
    },
    {
      "cell_type": "code",
      "source": [
        "dailyBERTnews_mean.to_csv('drive/MyDrive/dailyBERTnews_mean')"
      ],
      "metadata": {
        "id": "GFAGg1zXYj6_"
      },
      "execution_count": null,
      "outputs": []
    },
    {
      "cell_type": "markdown",
      "source": [
        "## Daily Sentiment Metric, based on sentiment counts BERT labelled sp500 News"
      ],
      "metadata": {
        "id": "6DZchvBdk3ZI"
      }
    },
    {
      "cell_type": "code",
      "source": [
        "newsBERT['DominantSentiment'] = newsBERT[['Negative', 'Neutral', 'Positive']].idxmax(axis=1)\n",
        "# Initialize counters\n",
        "newsBERT['PositiveCount'] = (newsBERT['DominantSentiment'] == 'Positive').astype(int)\n",
        "newsBERT['NegativeCount'] = (newsBERT['DominantSentiment'] == 'Negative').astype(int)\n",
        "newsBERT['NeutralCount'] = (newsBERT['DominantSentiment'] == 'Neutral').astype(int)\n",
        "\n",
        "# Aggregate counts by day\n",
        "agg_newsBERT_counts = newsBERT.groupby('Date')[['PositiveCount', 'NegativeCount', 'NeutralCount']].sum().reset_index()\n",
        "\n",
        "agg_newsBERT_counts['SentimentMetric'] = (agg_newsBERT_counts['PositiveCount'] - agg_newsBERT_counts['NegativeCount']) / (agg_newsBERT_counts['PositiveCount'] + agg_newsBERT_counts['NegativeCount'] + agg_newsBERT_counts['NeutralCount'])\n",
        "\n",
        "agg_newsBERT_counts.drop(columns=['PositiveCount', 'NegativeCount', 'NeutralCount'], inplace=True)\n"
      ],
      "metadata": {
        "id": "D7mE03l6Zd7J"
      },
      "execution_count": null,
      "outputs": []
    },
    {
      "cell_type": "code",
      "source": [
        "agg_newsBERT_counts.to_csv('drive/MyDrive/agg_newsBERT_counts')"
      ],
      "metadata": {
        "id": "d1LSciC6Zeta"
      },
      "execution_count": null,
      "outputs": []
    },
    {
      "cell_type": "markdown",
      "source": [
        "#Aggregating LM labelled datasets"
      ],
      "metadata": {
        "id": "r1oeBfFQXprU"
      }
    },
    {
      "cell_type": "code",
      "source": [
        "import pandas as pd\n",
        "import ast\n",
        "tweetsLM=pd.read_csv('drive/MyDrive/twitter_sentimentLM2', converters={'score': ast.literal_eval})\n",
        "newsLM=pd.read_csv('drive/MyDrive/sp500_newsLM2.csv', converters={'score': ast.literal_eval})"
      ],
      "metadata": {
        "id": "6TeA8oblayWt"
      },
      "execution_count": null,
      "outputs": []
    },
    {
      "cell_type": "code",
      "source": [
        "import pandas as pd\n",
        "print(tweetsLM.head())\n",
        "\n",
        "tweetsLM['Date'] = pd.to_datetime(tweetsLM['Date'], errors='coerce')\n",
        "newsLM['Date'] = pd.to_datetime(newsLM['Date'], errors='coerce')\n"
      ],
      "metadata": {
        "colab": {
          "base_uri": "https://localhost:8080/"
        },
        "id": "XMSGyvB4ddet",
        "outputId": "76544fea-8d50-477c-9e3a-c6935bd3962b"
      },
      "execution_count": null,
      "outputs": [
        {
          "output_type": "stream",
          "name": "stdout",
          "text": [
            "   Unnamed: 0        Date                                               Text  \\\n",
            "0     3289289  2017-06-21  ['begun', 'minut', 'debat', 'rep', 'dca', 'ame...   \n",
            "1     3289693  2017-06-21  ['obamacar', 'statu', 'quo', 'pull', 'flee', '...   \n",
            "2     3289692  2017-06-21  ['floor', 'discuss', 'push', 'rier', 'benefit'...   \n",
            "3     3289691  2017-06-21  ['said', 'want', 'work', 'reduc', 'took', 'wor...   \n",
            "4     3289690  2017-06-21                      ['join', 'cheer', 'colleagu']   \n",
            "\n",
            "                                               score  \n",
            "0  {'Positive': 0, 'Negative': 0, 'Polarity': 0.0...  \n",
            "1  {'Positive': 0, 'Negative': 0, 'Polarity': 0.0...  \n",
            "2  {'Positive': 1, 'Negative': 0, 'Polarity': 0.9...  \n",
            "3  {'Positive': 0, 'Negative': 0, 'Polarity': 0.0...  \n",
            "4  {'Positive': 0, 'Negative': 0, 'Polarity': 0.0...  \n"
          ]
        }
      ]
    },
    {
      "cell_type": "markdown",
      "source": [
        "## Daily Sentiment Metric and Mean for sp500 news"
      ],
      "metadata": {
        "id": "BWngy9mxlCxy"
      }
    },
    {
      "cell_type": "code",
      "source": [
        "df_normalized = pd.json_normalize(newsLM['score'])\n",
        "\n",
        "# Concatenate the flattened DataFrame with the original DataFrame\n",
        "newsLM = pd.concat([newsLM.drop(columns=['score']), df_normalized], axis=1)\n",
        "\n",
        "print(newsLM)"
      ],
      "metadata": {
        "colab": {
          "base_uri": "https://localhost:8080/"
        },
        "id": "OTQOCSx0Psgi",
        "outputId": "d6ff895d-af7a-4b9b-d014-9c0b019e9432"
      },
      "execution_count": null,
      "outputs": [
        {
          "output_type": "stream",
          "name": "stdout",
          "text": [
            "        Unnamed: 0                       _id  compound       Date  \\\n",
            "0                0  61ec1c1ad68efb091ce207ce    0.2960 2022-01-09   \n",
            "1                1  61ec1c1ad68efb091ce207ca    0.3612 2022-01-21   \n",
            "2                2  61ec1c1bd68efb091ce207ec    0.0000 2021-11-18   \n",
            "3                3  61ec1c1bd68efb091ce207ef    0.0000 2021-11-16   \n",
            "4                4  61ec1c1dd68efb091ce2080d   -0.3182 2021-10-13   \n",
            "...            ...                       ...       ...        ...   \n",
            "290723      290723  6403d2ba4575a9675d8aac0d    0.7964 2023-03-02   \n",
            "290724      290724  6403d2bc4575a9675d8aac70    0.4939 2023-03-03   \n",
            "290725      290725  6403d2bc4575a9675d8aac71    0.3400 2023-03-01   \n",
            "290726      290726  6403d2bc4575a9675d8aac72    0.8225 2023-03-01   \n",
            "290727      290727  6403d2bc4575a9675d8aac73    0.4404 2023-03-01   \n",
            "\n",
            "                                                     Text    neg    neu  \\\n",
            "0       ['type', 'sharehold', 'make', 'agil', 'technol...  0.000  0.833   \n",
            "1       ['asset', 'dedic', 'llc', 'buy', 'invesco', 'b...  0.000  0.828   \n",
            "2                         ['agil', 'report', 'q', 'earn']  0.000  1.000   \n",
            "3              ['alibaba', 'baba', 'report', 'q', 'earn']  0.000  1.000   \n",
            "4       ['agil', 'receiv', 'fda', 'companion', 'diagno...  0.205  0.651   \n",
            "...                                                   ...    ...    ...   \n",
            "290723  ['zion', 'bancorpor', 'receiv', 'greenwich', '...  0.000  0.496   \n",
            "290724  ['zoeti', 'particip', 'td', 'health', 'care', ...  0.000  0.738   \n",
            "290725    ['coll', 'vs', 'zt', 'valu', 'investor', 'buy']  0.000  0.789   \n",
            "290726  ['zoeti', 'secur', 'advanc', 'sustain', 'lives...  0.000  0.556   \n",
            "290727                          ['zoeti', 'zt', 'invest']  0.000  0.580   \n",
            "\n",
            "          pos ticker     time  Positive  Negative  Polarity  Subjectivity  \n",
            "0       0.167      A  06:06AM       0.0       0.0  0.000000      0.000000  \n",
            "1       0.172      A  09:38AM       0.0       0.0  0.000000      0.000000  \n",
            "2       0.000      A  09:02AM       0.0       0.0  0.000000      0.000000  \n",
            "3       0.000      A  10:23AM       0.0       0.0  0.000000      0.000000  \n",
            "4       0.144      A  04:16PM       0.0       0.0  0.000000      0.000000  \n",
            "...       ...    ...      ...       ...       ...       ...           ...  \n",
            "290723  0.504   ZION  08:30AM       1.0       0.0  0.999999      0.166667  \n",
            "290724  0.262    ZTS  08:30AM       0.0       0.0  0.000000      0.000000  \n",
            "290725  0.211    ZTS  11:40AM       0.0       0.0  0.000000      0.000000  \n",
            "290726  0.444    ZTS  07:00AM       2.0       0.0  1.000000      0.222222  \n",
            "290727  0.420    ZTS  06:30AM       0.0       0.0  0.000000      0.000000  \n",
            "\n",
            "[290728 rows x 14 columns]\n"
          ]
        }
      ]
    },
    {
      "cell_type": "code",
      "source": [
        "import numpy as np\n",
        "\n",
        "\n",
        "# Apply the formula to calculate the new column\n",
        "newsLM['SentimentMetric'] = np.log((1 + newsLM['Positive'] )/ (1 + newsLM['Negative']))\n",
        "\n",
        "# Group by 'Date' and calculate the mean of 'SentimentMetric' for each group\n",
        "average_sentiment_by_date = newsLM.groupby('Date')['SentimentMetric'].mean().reset_index()\n",
        "\n",
        "\n",
        "print(average_sentiment_by_date)\n",
        "\n",
        "\n"
      ],
      "metadata": {
        "colab": {
          "base_uri": "https://localhost:8080/"
        },
        "id": "GhLrF-qTgnII",
        "outputId": "85240a1b-b5cb-4e61-cd08-d4f38ca2b551"
      },
      "execution_count": null,
      "outputs": [
        {
          "output_type": "stream",
          "name": "stdout",
          "text": [
            "          Date  SentimentMetric\n",
            "0   2019-12-19         0.693147\n",
            "1   2020-01-02         0.693147\n",
            "2   2020-01-22         0.000000\n",
            "3   2020-02-07         0.346574\n",
            "4   2020-02-10         0.000000\n",
            "..         ...              ...\n",
            "950 2023-02-28        -0.001984\n",
            "951 2023-03-01        -0.023461\n",
            "952 2023-03-02        -0.051546\n",
            "953 2023-03-03        -0.025572\n",
            "954 2023-03-04        -0.035406\n",
            "\n",
            "[955 rows x 2 columns]\n"
          ]
        }
      ]
    },
    {
      "cell_type": "code",
      "source": [
        "average_sentiment_by_date.to_csv('drive/MyDrive/agg_newsLM_counts')"
      ],
      "metadata": {
        "id": "nQtR7SIddwo6"
      },
      "execution_count": null,
      "outputs": []
    },
    {
      "cell_type": "code",
      "source": [
        "import numpy as np\n",
        "# Calculate the length of the text in each row and store it in a new column\n",
        "newsLM['Text_Length'] = newsLM['Text'].apply(lambda x: len(eval(x)))\n",
        "\n",
        "# Divide 'Positive' and 'Negative' by the length of the text and store the normalized values in new columns\n",
        "newsLM['Positive'] = newsLM['Positive'] / newsLM['Text_Length']\n",
        "newsLM['Negative'] = newsLM['Negative'] / newsLM['Text_Length']\n",
        "print(tweetsLM)\n",
        "newsLM.drop(columns=['Text_Length'], inplace=True)\n",
        "\n",
        "print(newsLM)\n"
      ],
      "metadata": {
        "colab": {
          "base_uri": "https://localhost:8080/"
        },
        "id": "PdeRFqs1cGXH",
        "outputId": "c7b2bfbf-87f7-49e1-88e0-d3155b5880af"
      },
      "execution_count": null,
      "outputs": [
        {
          "output_type": "stream",
          "name": "stdout",
          "text": [
            "         Unnamed: 0       Date  \\\n",
            "0           3289289 2017-06-21   \n",
            "1           3289693 2017-06-21   \n",
            "2           3289692 2017-06-21   \n",
            "3           3289691 2017-06-21   \n",
            "4           3289690 2017-06-21   \n",
            "...             ...        ...   \n",
            "5068346     2001451 2023-07-11   \n",
            "5068347     2001450 2023-07-11   \n",
            "5068348     2001449 2023-07-11   \n",
            "5068349     2001460 2023-07-11   \n",
            "5068350     2002261 2023-07-11   \n",
            "\n",
            "                                                      Text  \\\n",
            "0        ['begun', 'minut', 'debat', 'rep', 'dca', 'ame...   \n",
            "1        ['obamacar', 'statu', 'quo', 'pull', 'flee', '...   \n",
            "2        ['floor', 'discuss', 'push', 'rier', 'benefit'...   \n",
            "3        ['said', 'want', 'work', 'reduc', 'took', 'wor...   \n",
            "4                            ['join', 'cheer', 'colleagu']   \n",
            "...                                                    ...   \n",
            "5068346  ['bipartisan', 'infrastructur', 'work', 'thank...   \n",
            "5068347  ['rt', 'congratul', 'confirm', 'deputi', 'secr...   \n",
            "5068348  ['know', 'matern', 'mortal', 'crisi', 'crippl'...   \n",
            "5068349  ['encourag', 'illeg', 'immigr', 'expans', 'app...   \n",
            "5068350  ['option', 'recycl', 'delay', 'freshman', 'col...   \n",
            "\n",
            "                                                     score  \n",
            "0        {'Positive': 0, 'Negative': 0, 'Polarity': 0.0...  \n",
            "1        {'Positive': 0, 'Negative': 0, 'Polarity': 0.0...  \n",
            "2        {'Positive': 1, 'Negative': 0, 'Polarity': 0.9...  \n",
            "3        {'Positive': 0, 'Negative': 0, 'Polarity': 0.0...  \n",
            "4        {'Positive': 0, 'Negative': 0, 'Polarity': 0.0...  \n",
            "...                                                    ...  \n",
            "5068346  {'Positive': 1, 'Negative': 0, 'Polarity': 0.9...  \n",
            "5068347  {'Positive': 1, 'Negative': 0, 'Polarity': 0.9...  \n",
            "5068348  {'Positive': 0, 'Negative': 4, 'Polarity': -0....  \n",
            "5068349  {'Positive': 1, 'Negative': 2, 'Polarity': -0....  \n",
            "5068350  {'Positive': 0, 'Negative': 1, 'Polarity': -0....  \n",
            "\n",
            "[5068351 rows x 4 columns]\n",
            "        Unnamed: 0                       _id  compound       Date  \\\n",
            "0                0  61ec1c1ad68efb091ce207ce    0.2960 2022-01-09   \n",
            "1                1  61ec1c1ad68efb091ce207ca    0.3612 2022-01-21   \n",
            "2                2  61ec1c1bd68efb091ce207ec    0.0000 2021-11-18   \n",
            "3                3  61ec1c1bd68efb091ce207ef    0.0000 2021-11-16   \n",
            "4                4  61ec1c1dd68efb091ce2080d   -0.3182 2021-10-13   \n",
            "...            ...                       ...       ...        ...   \n",
            "290723      290723  6403d2ba4575a9675d8aac0d    0.7964 2023-03-02   \n",
            "290724      290724  6403d2bc4575a9675d8aac70    0.4939 2023-03-03   \n",
            "290725      290725  6403d2bc4575a9675d8aac71    0.3400 2023-03-01   \n",
            "290726      290726  6403d2bc4575a9675d8aac72    0.8225 2023-03-01   \n",
            "290727      290727  6403d2bc4575a9675d8aac73    0.4404 2023-03-01   \n",
            "\n",
            "                                                     Text    neg    neu  \\\n",
            "0       ['type', 'sharehold', 'make', 'agil', 'technol...  0.000  0.833   \n",
            "1       ['asset', 'dedic', 'llc', 'buy', 'invesco', 'b...  0.000  0.828   \n",
            "2                         ['agil', 'report', 'q', 'earn']  0.000  1.000   \n",
            "3              ['alibaba', 'baba', 'report', 'q', 'earn']  0.000  1.000   \n",
            "4       ['agil', 'receiv', 'fda', 'companion', 'diagno...  0.205  0.651   \n",
            "...                                                   ...    ...    ...   \n",
            "290723  ['zion', 'bancorpor', 'receiv', 'greenwich', '...  0.000  0.496   \n",
            "290724  ['zoeti', 'particip', 'td', 'health', 'care', ...  0.000  0.738   \n",
            "290725    ['coll', 'vs', 'zt', 'valu', 'investor', 'buy']  0.000  0.789   \n",
            "290726  ['zoeti', 'secur', 'advanc', 'sustain', 'lives...  0.000  0.556   \n",
            "290727                          ['zoeti', 'zt', 'invest']  0.000  0.580   \n",
            "\n",
            "          pos ticker     time  Positive  Negative  Polarity  Subjectivity  \\\n",
            "0       0.167      A  06:06AM  0.000000       0.0  0.000000      0.000000   \n",
            "1       0.172      A  09:38AM  0.000000       0.0  0.000000      0.000000   \n",
            "2       0.000      A  09:02AM  0.000000       0.0  0.000000      0.000000   \n",
            "3       0.000      A  10:23AM  0.000000       0.0  0.000000      0.000000   \n",
            "4       0.144      A  04:16PM  0.000000       0.0  0.000000      0.000000   \n",
            "...       ...    ...      ...       ...       ...       ...           ...   \n",
            "290723  0.504   ZION  08:30AM  0.166667       0.0  0.999999      0.166667   \n",
            "290724  0.262    ZTS  08:30AM  0.000000       0.0  0.000000      0.000000   \n",
            "290725  0.211    ZTS  11:40AM  0.000000       0.0  0.000000      0.000000   \n",
            "290726  0.444    ZTS  07:00AM  0.222222       0.0  1.000000      0.222222   \n",
            "290727  0.420    ZTS  06:30AM  0.000000       0.0  0.000000      0.000000   \n",
            "\n",
            "        SentimentMetric  \n",
            "0              0.000000  \n",
            "1              0.000000  \n",
            "2              0.000000  \n",
            "3              0.000000  \n",
            "4              0.000000  \n",
            "...                 ...  \n",
            "290723         0.693147  \n",
            "290724         0.000000  \n",
            "290725         0.000000  \n",
            "290726         1.098612  \n",
            "290727         0.000000  \n",
            "\n",
            "[290728 rows x 15 columns]\n"
          ]
        }
      ]
    },
    {
      "cell_type": "code",
      "source": [
        "dailyLMnews_mean = newsLM.groupby('Date')[['Negative', 'Positive']].mean().reset_index()\n",
        "\n"
      ],
      "metadata": {
        "id": "Ef4bqjb2ZMeQ"
      },
      "execution_count": null,
      "outputs": []
    },
    {
      "cell_type": "code",
      "source": [
        "dailyLMnews_mean.to_csv('drive/MyDrive/dailyLMnews_mean')\n"
      ],
      "metadata": {
        "id": "0x56Cyi2h62B"
      },
      "execution_count": null,
      "outputs": []
    },
    {
      "cell_type": "markdown",
      "source": [
        "## Daily Sentiment Metric, based on sentiment counts BERT labelled Congress Tweets"
      ],
      "metadata": {
        "id": "26rZKQ3AlSQp"
      }
    },
    {
      "cell_type": "code",
      "source": [
        "df_normalized = pd.json_normalize(tweetsLM['score'])\n",
        "\n",
        "# Concatenate the flattened DataFrame with the original DataFrame\n",
        "tweetsLM = pd.concat([tweetsLM.drop(columns=['score']), df_normalized], axis=1)\n",
        "\n",
        "print(tweetsLM)"
      ],
      "metadata": {
        "colab": {
          "base_uri": "https://localhost:8080/"
        },
        "id": "MKbeonjpdfbs",
        "outputId": "c739cdbc-d1c3-4390-942d-94908746ffa6"
      },
      "execution_count": null,
      "outputs": [
        {
          "output_type": "stream",
          "name": "stdout",
          "text": [
            "         Unnamed: 0       Date  \\\n",
            "0           3289289 2017-06-21   \n",
            "1           3289693 2017-06-21   \n",
            "2           3289692 2017-06-21   \n",
            "3           3289691 2017-06-21   \n",
            "4           3289690 2017-06-21   \n",
            "...             ...        ...   \n",
            "5068346     2001451 2023-07-11   \n",
            "5068347     2001450 2023-07-11   \n",
            "5068348     2001449 2023-07-11   \n",
            "5068349     2001460 2023-07-11   \n",
            "5068350     2002261 2023-07-11   \n",
            "\n",
            "                                                      Text  Positive  \\\n",
            "0        ['begun', 'minut', 'debat', 'rep', 'dca', 'ame...       0.0   \n",
            "1        ['obamacar', 'statu', 'quo', 'pull', 'flee', '...       0.0   \n",
            "2        ['floor', 'discuss', 'push', 'rier', 'benefit'...       1.0   \n",
            "3        ['said', 'want', 'work', 'reduc', 'took', 'wor...       0.0   \n",
            "4                            ['join', 'cheer', 'colleagu']       0.0   \n",
            "...                                                    ...       ...   \n",
            "5068346  ['bipartisan', 'infrastructur', 'work', 'thank...       1.0   \n",
            "5068347  ['rt', 'congratul', 'confirm', 'deputi', 'secr...       1.0   \n",
            "5068348  ['know', 'matern', 'mortal', 'crisi', 'crippl'...       0.0   \n",
            "5068349  ['encourag', 'illeg', 'immigr', 'expans', 'app...       1.0   \n",
            "5068350  ['option', 'recycl', 'delay', 'freshman', 'col...       0.0   \n",
            "\n",
            "         Negative  Polarity  Subjectivity  \n",
            "0             0.0  0.000000      0.000000  \n",
            "1             0.0  0.000000      0.000000  \n",
            "2             0.0  0.999999      0.142857  \n",
            "3             0.0  0.000000      0.000000  \n",
            "4             0.0  0.000000      0.000000  \n",
            "...           ...       ...           ...  \n",
            "5068346       0.0  0.999999      0.035714  \n",
            "5068347       0.0  0.999999      0.076923  \n",
            "5068348       4.0 -1.000000      0.210526  \n",
            "5068349       2.0 -0.333333      0.187500  \n",
            "5068350       1.0 -0.999999      0.100000  \n",
            "\n",
            "[5068351 rows x 7 columns]\n"
          ]
        }
      ]
    },
    {
      "cell_type": "code",
      "source": [
        "import numpy as np\n",
        "\n",
        "\n",
        "# Apply the formula to calculate the new column\n",
        "tweetsLM['SentimentMetric'] = np.log((1 + tweetsLM['Positive'] )/ (1 + tweetsLM['Negative']))\n",
        "\n",
        "# Group by 'Date' and calculate the mean of 'SentimentMetric' for each group\n",
        "average_sentiment_by_date = tweetsLM.groupby('Date')['SentimentMetric'].mean().reset_index()\n",
        "\n",
        "\n",
        "print(average_sentiment_by_date)\n",
        "\n",
        "\n"
      ],
      "metadata": {
        "colab": {
          "base_uri": "https://localhost:8080/"
        },
        "id": "n5DQuTr-edcY",
        "outputId": "b8d0e446-2449-4a88-a061-77a77661b5a2"
      },
      "execution_count": null,
      "outputs": [
        {
          "output_type": "stream",
          "name": "stdout",
          "text": [
            "           Date  SentimentMetric\n",
            "0    2017-06-21        -0.050697\n",
            "1    2017-06-22        -0.128575\n",
            "2    2017-06-23        -0.087293\n",
            "3    2017-06-24        -0.155945\n",
            "4    2017-06-25        -0.095679\n",
            "...         ...              ...\n",
            "2192 2023-07-07        -0.197838\n",
            "2193 2023-07-08        -0.106609\n",
            "2194 2023-07-09        -0.169028\n",
            "2195 2023-07-10        -0.156858\n",
            "2196 2023-07-11        -0.210086\n",
            "\n",
            "[2197 rows x 2 columns]\n"
          ]
        }
      ]
    },
    {
      "cell_type": "code",
      "source": [
        "average_sentiment_by_date.to_csv('drive/MyDrive/agg_tweetsLM_counts')"
      ],
      "metadata": {
        "id": "tbThQDdNeoDT"
      },
      "execution_count": null,
      "outputs": []
    },
    {
      "cell_type": "code",
      "source": [
        "# Calculate the length of the text in each row and store it in a new column\n",
        "tweetsLM['Text_Length'] = tweetsLM['Text'].apply(lambda x: len(eval(x)))\n",
        "\n",
        "# Divide 'Positive' and 'Negative' by the length of the text and store the normalized values in new columns\n",
        "tweetsLM['Positive'] = tweetsLM['Positive'] / tweetsLM['Text_Length']\n",
        "tweetsLM['Negative'] = tweetsLM['Negative'] / tweetsLM['Text_Length']\n",
        "print(tweetsLM)\n",
        "# Drop the 'Text_Length' column if you no longer need it\n",
        "tweetsLM.drop(columns=['Text_Length'], inplace=True)\n",
        "\n",
        "print(tweetsLM)\n"
      ],
      "metadata": {
        "colab": {
          "base_uri": "https://localhost:8080/"
        },
        "id": "bJfyRWWGdlVf",
        "outputId": "10409439-70c6-4f03-8264-268c15af02cc"
      },
      "execution_count": null,
      "outputs": [
        {
          "output_type": "stream",
          "name": "stdout",
          "text": [
            "         Unnamed: 0       Date  \\\n",
            "0           3289289 2017-06-21   \n",
            "1           3289693 2017-06-21   \n",
            "2           3289692 2017-06-21   \n",
            "3           3289691 2017-06-21   \n",
            "4           3289690 2017-06-21   \n",
            "...             ...        ...   \n",
            "5068346     2001451 2023-07-11   \n",
            "5068347     2001450 2023-07-11   \n",
            "5068348     2001449 2023-07-11   \n",
            "5068349     2001460 2023-07-11   \n",
            "5068350     2002261 2023-07-11   \n",
            "\n",
            "                                                      Text  Positive  \\\n",
            "0        ['begun', 'minut', 'debat', 'rep', 'dca', 'ame...  0.000000   \n",
            "1        ['obamacar', 'statu', 'quo', 'pull', 'flee', '...  0.000000   \n",
            "2        ['floor', 'discuss', 'push', 'rier', 'benefit'...  0.142857   \n",
            "3        ['said', 'want', 'work', 'reduc', 'took', 'wor...  0.000000   \n",
            "4                            ['join', 'cheer', 'colleagu']  0.000000   \n",
            "...                                                    ...       ...   \n",
            "5068346  ['bipartisan', 'infrastructur', 'work', 'thank...  0.035714   \n",
            "5068347  ['rt', 'congratul', 'confirm', 'deputi', 'secr...  0.076923   \n",
            "5068348  ['know', 'matern', 'mortal', 'crisi', 'crippl'...  0.000000   \n",
            "5068349  ['encourag', 'illeg', 'immigr', 'expans', 'app...  0.062500   \n",
            "5068350  ['option', 'recycl', 'delay', 'freshman', 'col...  0.000000   \n",
            "\n",
            "         Negative  Polarity  Subjectivity  SentimentMetric  Text_Length  \n",
            "0        0.000000  0.000000      0.000000         0.000000            6  \n",
            "1        0.000000  0.000000      0.000000         0.000000            6  \n",
            "2        0.000000  0.999999      0.142857         0.693147            7  \n",
            "3        0.000000  0.000000      0.000000         0.000000            8  \n",
            "4        0.000000  0.000000      0.000000         0.000000            3  \n",
            "...           ...       ...           ...              ...          ...  \n",
            "5068346  0.000000  0.999999      0.035714         0.693147           28  \n",
            "5068347  0.000000  0.999999      0.076923         0.693147           13  \n",
            "5068348  0.210526 -1.000000      0.210526        -1.609438           19  \n",
            "5068349  0.125000 -0.333333      0.187500        -0.405465           16  \n",
            "5068350  0.100000 -0.999999      0.100000        -0.693147           10  \n",
            "\n",
            "[5068351 rows x 9 columns]\n",
            "         Unnamed: 0       Date  \\\n",
            "0           3289289 2017-06-21   \n",
            "1           3289693 2017-06-21   \n",
            "2           3289692 2017-06-21   \n",
            "3           3289691 2017-06-21   \n",
            "4           3289690 2017-06-21   \n",
            "...             ...        ...   \n",
            "5068346     2001451 2023-07-11   \n",
            "5068347     2001450 2023-07-11   \n",
            "5068348     2001449 2023-07-11   \n",
            "5068349     2001460 2023-07-11   \n",
            "5068350     2002261 2023-07-11   \n",
            "\n",
            "                                                      Text  Positive  \\\n",
            "0        ['begun', 'minut', 'debat', 'rep', 'dca', 'ame...  0.000000   \n",
            "1        ['obamacar', 'statu', 'quo', 'pull', 'flee', '...  0.000000   \n",
            "2        ['floor', 'discuss', 'push', 'rier', 'benefit'...  0.142857   \n",
            "3        ['said', 'want', 'work', 'reduc', 'took', 'wor...  0.000000   \n",
            "4                            ['join', 'cheer', 'colleagu']  0.000000   \n",
            "...                                                    ...       ...   \n",
            "5068346  ['bipartisan', 'infrastructur', 'work', 'thank...  0.035714   \n",
            "5068347  ['rt', 'congratul', 'confirm', 'deputi', 'secr...  0.076923   \n",
            "5068348  ['know', 'matern', 'mortal', 'crisi', 'crippl'...  0.000000   \n",
            "5068349  ['encourag', 'illeg', 'immigr', 'expans', 'app...  0.062500   \n",
            "5068350  ['option', 'recycl', 'delay', 'freshman', 'col...  0.000000   \n",
            "\n",
            "         Negative  Polarity  Subjectivity  SentimentMetric  \n",
            "0        0.000000  0.000000      0.000000         0.000000  \n",
            "1        0.000000  0.000000      0.000000         0.000000  \n",
            "2        0.000000  0.999999      0.142857         0.693147  \n",
            "3        0.000000  0.000000      0.000000         0.000000  \n",
            "4        0.000000  0.000000      0.000000         0.000000  \n",
            "...           ...       ...           ...              ...  \n",
            "5068346  0.000000  0.999999      0.035714         0.693147  \n",
            "5068347  0.000000  0.999999      0.076923         0.693147  \n",
            "5068348  0.210526 -1.000000      0.210526        -1.609438  \n",
            "5068349  0.125000 -0.333333      0.187500        -0.405465  \n",
            "5068350  0.100000 -0.999999      0.100000        -0.693147  \n",
            "\n",
            "[5068351 rows x 8 columns]\n"
          ]
        }
      ]
    },
    {
      "cell_type": "code",
      "source": [
        "dailyLMtweets_mean = newsLM.groupby('Date')[['Negative', 'Positive']].mean().reset_index()"
      ],
      "metadata": {
        "id": "vkwikUg8n3yG"
      },
      "execution_count": null,
      "outputs": []
    },
    {
      "cell_type": "code",
      "source": [
        "dailyLMtweets_mean.to_csv('drive/MyDrive/dailyLMtweets_mean')"
      ],
      "metadata": {
        "id": "ycjtsUjyoCLU"
      },
      "execution_count": null,
      "outputs": []
    },
    {
      "cell_type": "markdown",
      "source": [
        "## Mean Daily Sentiment Probabilities LM labelled Congress tweets"
      ],
      "metadata": {
        "id": "4sypNH1tlbbJ"
      }
    }
  ]
}